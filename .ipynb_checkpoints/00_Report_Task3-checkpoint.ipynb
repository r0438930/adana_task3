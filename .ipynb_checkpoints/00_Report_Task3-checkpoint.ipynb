{
 "cells": [
  {
   "cell_type": "markdown",
   "metadata": {},
   "source": [
    "# Advanced Analytics - Assignment 3\n",
    "\n",
    "This assignment aims to predict the validity of Wikipedia Edits. The goal is to build a model which can classify incoming (stream) Wikipedia edits as Safe, Unsafe or Vandal. This notebook starts off by giving an overview of the contents. \n",
    "\n",
    "## Overview of the Notebook\n",
    "\n",
    "> **1.** Problem Description <br>\n",
    "> **2.** Data Capture & Cleaning <br>\n",
    "> **3.** Text Procession & Ancillary Features <br>\n",
    "> **4.** Model Training & Prediction <br>\n",
    "> **5.** Model Evaluation <br>\n"
   ]
  },
  {
   "cell_type": "code",
   "execution_count": null,
   "metadata": {},
   "outputs": [],
   "source": []
  },
  {
   "cell_type": "markdown",
   "metadata": {},
   "source": [
    "## 1. Problem Description\n",
    "\n",
    "To start, we will take a closer look at the data and how it is constructed. \n",
    "The data that has been streamed is text-based and formatted as a JSON dictionary with the following features:\n",
    "\n",
    "<b>Title page:</b> Title of the Wikipedia page.\n",
    "\n",
    "<b>Text_new:</b> Text after the edit.\n",
    "\n",
    "<b>Text_old:</b> Text before the edit.\n",
    "\n",
    "<b>Name_user:</b> The user that edited the page. If the user is registered, their user name will show. In case of an anonymous edit, the user will be identified by his/her IP address at the time of editing.\n",
    "\n",
    "<b>Label:</b> Label is the target feature which we aim to predict. The possible values are 'safe', 'unsafe' or 'vandal'.\n",
    "\n",
    "<b>Comment:</b> The editor is asked to summarize the changes that have been made to the page. It is considered good practice to provide a summary about the edit, however, the user is free to leave this field blank, therefore empty values can occur.\n",
    "\n",
    "<b>URL_page:</b> The URL of the Wikipedia page that was edited."
   ]
  },
  {
   "cell_type": "code",
   "execution_count": null,
   "metadata": {},
   "outputs": [],
   "source": []
  },
  {
   "cell_type": "markdown",
   "metadata": {},
   "source": [
    "## 2. Data Capture & Cleaning"
   ]
  },
  {
   "cell_type": "code",
   "execution_count": null,
   "metadata": {},
   "outputs": [],
   "source": []
  },
  {
   "cell_type": "markdown",
   "metadata": {},
   "source": [
    "## 3. Text Processing & Ancillary Features\n",
    "\n",
    "\n",
    "### 3.1 Steps in the processing the text\n",
    "> **1.** Read in Text & Compute difference between texts (python difflib)   \n",
    "> **2.** Tokenization of words in difference in text <br>\n",
    "> **3.** Normalization (lowercase), Stemming & Stop-Word Removal <br>\n",
    "> **4.** Create Vector Representation\n",
    "   > - (TF-IDF: https://spark.apache.org/docs/latest/mllib-feature-extraction.html#tf-idf)<br>\n",
    "   > - (Word2Vec: )\n",
    "    \n",
    "> **5.** Ancillary Features (a.k.a. Metadata Features):\n",
    "    > - Summary Comment \n",
    "    > - Revision Has Any Text (no empty revision)\n",
    "    > - Vulgar words present -> vulgarism frequency and vulgarism impact\n",
    "    > - Longest sequence of the same character in the edit (eg: boooooobs)\n",
    "    > - Ratio of upper case letters to all letters?\n",
    "    > - Similarity of old vs new text\n",
    "    > - etc"
   ]
  },
  {
   "cell_type": "code",
   "execution_count": null,
   "metadata": {},
   "outputs": [],
   "source": []
  },
  {
   "cell_type": "markdown",
   "metadata": {},
   "source": [
    "## 4. Model Training & Prediction\n",
    "\n",
    "### 4.1 (LogitBoost) Multinomial Bayesian Classifier"
   ]
  },
  {
   "cell_type": "code",
   "execution_count": null,
   "metadata": {},
   "outputs": [],
   "source": []
  },
  {
   "cell_type": "code",
   "execution_count": null,
   "metadata": {},
   "outputs": [],
   "source": []
  }
 ],
 "metadata": {
  "kernelspec": {
   "display_name": "Python 3",
   "language": "python",
   "name": "python3"
  },
  "language_info": {
   "codemirror_mode": {
    "name": "ipython",
    "version": 3
   },
   "file_extension": ".py",
   "mimetype": "text/x-python",
   "name": "python",
   "nbconvert_exporter": "python",
   "pygments_lexer": "ipython3",
   "version": "3.7.6"
  }
 },
 "nbformat": 4,
 "nbformat_minor": 2
}
