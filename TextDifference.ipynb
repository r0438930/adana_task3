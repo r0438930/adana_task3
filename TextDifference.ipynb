{
 "cells": [
  {
   "cell_type": "markdown",
   "metadata": {},
   "source": [
    "# Determining the Difference Between Input & Output Texts\n",
    "\n",
    "The goal of this function is to create a new feature: \"text_diff\". This feature shows the concrete (isolated) changes made to the text ommiting the parts of text which are present in both input and output.\n",
    "\n",
    "**Some Possible changes that could occur:**\n",
    "\n",
    "    - Spelling changes: Misteries -> Mysteries\n",
    "    - Grammar changes: On the countryside, I ride bikes -> I ride bikes on the countryside\n",
    "    - Drastic changes: Completely new text, Deleted text, etc\n",
    "    - The essence of changes: \n",
    "        + Deleted words \n",
    "        + New words \n",
    "        + Rearranged words (switch place in sentence) \n",
    "        + Edited words (only a few characters in word have changed -> Bike vs Biking)\n",
    "\n",
    "**Features that could be usefull:**\n",
    "\n",
    "    - Actual textual difference\n",
    "    - See above: essence of changes\n",
    "    - Similarity measure between the texts\n",
    "    - Whether bad words are present or not -> Compare to a vocabulary of vulgar words.\n",
    "    \n",
    "**To Do:**\n",
    "\n",
    "    - undestanding RDD & Dataframe format\n",
    "    - propper difference between input & output text (what do we want the difference to show)\n",
    "    - test out a model"
   ]
  },
  {
   "cell_type": "code",
   "execution_count": 1,
   "metadata": {},
   "outputs": [
    {
     "name": "stdout",
     "output_type": "stream",
     "text": [
      "ab\n",
      "cd\n",
      "\n"
     ]
    }
   ],
   "source": [
    "import difflib\n",
    "import sys\n",
    "\n",
    "\n",
    "string1 = \"abxcd\"\n",
    "string2 = \"abcd\"\n",
    "\n",
    "matches = difflib.SequenceMatcher(\n",
    "    None, string1, string2).get_matching_blocks()\n",
    "for match in matches:\n",
    "    print(string1[match.a:match.a + match.size])"
   ]
  },
  {
   "cell_type": "code",
   "execution_count": 2,
   "metadata": {},
   "outputs": [
    {
     "name": "stdout",
     "output_type": "stream",
     "text": [
      "--- before.py\n",
      "+++ after.py\n",
      "@@ -3,16 +3,21 @@\n",
      " a m  -S+C+e+d+r i-m+c+ +F o-n- -H-i+c+c+a e-l+r+t ,   I"
     ]
    }
   ],
   "source": [
    "# text1 = open(\"sample1.txt\").readlines()\n",
    "# text2 = open(\"sample2.txt\").readlines()\n",
    "\n",
    "text1 = 'I am Simon Hiel, I study Handelsingenieur'\n",
    "text2 = 'I am Cedric Foccaert, I study Handelsingenieur' \n",
    "\n",
    "sys.stdout.writelines(difflib.unified_diff(text1, text2,fromfile='before.py', tofile='after.py'))"
   ]
  },
  {
   "cell_type": "code",
   "execution_count": 38,
   "metadata": {},
   "outputs": [
    {
     "name": "stdout",
     "output_type": "stream",
     "text": [
      "I am\n",
      " Simon Hiel\n",
      " and I study \n",
      "a\n",
      "i\n",
      "en\n",
      "e\n",
      "\n"
     ]
    }
   ],
   "source": [
    "string1 = 'I am Simon Hiel and I study Handelsingenieur'\n",
    "string2 = 'I am Not Simon Hiel but I am Cedric Foccaert and I study Major Data Science' \n",
    "\n",
    "matches = difflib.SequenceMatcher(None, string1, string2).get_matching_blocks()\n",
    "for match in matches:\n",
    "    print(string1[match.a:match.a + match.size])"
   ]
  },
  {
   "cell_type": "code",
   "execution_count": 39,
   "metadata": {},
   "outputs": [
    {
     "name": "stdout",
     "output_type": "stream",
     "text": [
      "0.5546\n",
      "I am\n",
      " Simon Hiel \n",
      "and I study \n",
      "a\n",
      "i\n",
      "en\n",
      "e\n",
      "\n"
     ]
    }
   ],
   "source": [
    "## Calculating similarity between strings\n",
    "\n",
    "SM = difflib.SequenceMatcher(lambda x: x == \" \",string1,string2)\n",
    "matches = SM.get_matching_blocks()\n",
    "\n",
    "similarity = round(SM.ratio(), 4)\n",
    "print(similarity) #Better implementation: Weighted ratio!\n",
    "\n",
    "for match in matches:\n",
    "    print(string1[match.a:match.a + match.size])\n"
   ]
  },
  {
   "cell_type": "code",
   "execution_count": 40,
   "metadata": {},
   "outputs": [],
   "source": [
    "def show_diff(seqm):\n",
    "    output= []\n",
    "    for opcode, a0, a1, b0, b1 in seqm.get_opcodes():\n",
    "        if opcode == 'equal':\n",
    "            output.append(seqm.a[a0:a1])\n",
    "        elif opcode == 'insert':\n",
    "            output.append(\" <ins>\" + seqm.b[b0:b1] + \" </ins>\")\n",
    "        elif opcode == 'delete':\n",
    "            output.append(\" <del>\" + seqm.a[a0:a1] + \" </del>\")\n",
    "#         elif opcode == 'replace':\n",
    "#             output.append(\" <old>\" + seqm.a[a0:a1] + \" <old>\" + \" ---> \" + \" <new>\" + seqm.b[b0:b1] + \" <new>\" )\n",
    "#         else:\n",
    "#             raise RuntimeError, \"unexpected opcode\"\n",
    "            \n",
    "    return ''.join(output)\n",
    "\n",
    "\n"
   ]
  },
  {
   "cell_type": "code",
   "execution_count": 41,
   "metadata": {},
   "outputs": [
    {
     "data": {
      "text/plain": [
       "'I am <ins> Not </ins> Simon Hiel <ins> but I am Cedric Foccaert </ins> and I study ai <del>ng </del>ene <del>ur </del>'"
      ]
     },
     "execution_count": 41,
     "metadata": {},
     "output_type": "execute_result"
    }
   ],
   "source": [
    "test = difflib.SequenceMatcher(None, string1, string2)\n",
    "show_diff(test)"
   ]
  },
  {
   "cell_type": "code",
   "execution_count": null,
   "metadata": {},
   "outputs": [],
   "source": []
  }
 ],
 "metadata": {
  "kernelspec": {
   "display_name": "Python 3",
   "language": "python",
   "name": "python3"
  },
  "language_info": {
   "codemirror_mode": {
    "name": "ipython",
    "version": 3
   },
   "file_extension": ".py",
   "mimetype": "text/x-python",
   "name": "python",
   "nbconvert_exporter": "python",
   "pygments_lexer": "ipython3",
   "version": "3.7.3"
  }
 },
 "nbformat": 4,
 "nbformat_minor": 2
}
