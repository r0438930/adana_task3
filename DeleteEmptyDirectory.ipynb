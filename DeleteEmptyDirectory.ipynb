{
 "cells": [
  {
   "cell_type": "markdown",
   "metadata": {},
   "source": [
    "# Deleting the empty folders\n",
    "\n",
    "Before preprocessing the data and training a model, there are many directories or folder which do not contain 'part files'. It is easier to delete these folders since they are not significant."
   ]
  },
  {
   "cell_type": "code",
   "execution_count": 1,
   "metadata": {},
   "outputs": [],
   "source": [
    "import os\n",
    "import shutil\n",
    "import numpy\n"
   ]
  },
  {
   "cell_type": "code",
   "execution_count": 2,
   "metadata": {},
   "outputs": [
    {
     "data": {
      "text/plain": [
       "'/Users/Simon/Documents/GitHub/adana_task3/Spark_Cleaned'"
      ]
     },
     "execution_count": 2,
     "metadata": {},
     "output_type": "execute_result"
    }
   ],
   "source": [
    "## Determine directories of the data and the location for the cleaned data\n",
    "directory = r'/Users/Simon/Documents/GitHub/adana_task3/Spark_Temp'\n",
    "new_directory = r'/Users/Simon/Documents/GitHub/adana_task3/Spark_Cleaned'\n",
    "filenames = os.listdir(directory)\n",
    "\n",
    "shutil.rmtree(new_directory, ignore_errors=False, onerror=None) #Reset (delete) the new directory\n",
    "shutil.copytree(directory, new_directory) #Copy the data to a new directory to built in some redundancy \n"
   ]
  },
  {
   "cell_type": "code",
   "execution_count": 3,
   "metadata": {
    "scrolled": true
   },
   "outputs": [
    {
     "name": "stdout",
     "output_type": "stream",
     "text": [
      "The Total Number of Original Folders is:\n",
      "5009\n",
      "\n",
      "The Total Number of Removed Folders is:\n",
      "3888\n"
     ]
    }
   ],
   "source": [
    "## Removing the folders which do not contain 'part files'. These folders do not contain any useful data.\n",
    "counter = 0\n",
    "removed_folders = []\n",
    "for i in range(len(filenames)):\n",
    "    remove = False\n",
    "    folder = new_directory + \"/\" + filenames[i]\n",
    "    \n",
    "    if filenames[i] == '.DS_Store':\n",
    "        continue\n",
    "        \n",
    "    if len(os.listdir(folder)) <= 1:\n",
    "        remove = True\n",
    "        removed_folders.append(filenames[i])\n",
    "        counter += 1\n",
    "        shutil.rmtree(folder, ignore_errors=False, onerror=None)\n",
    "        \n",
    "print(\"The Total Number of Original Folders is:\")\n",
    "print(len(filenames))\n",
    "print()\n",
    "print(\"The Total Number of Removed Folders is:\")\n",
    "print(counter)\n",
    "\n",
    "# print(removed_folders)\n"
   ]
  },
  {
   "cell_type": "code",
   "execution_count": null,
   "metadata": {},
   "outputs": [],
   "source": []
  }
 ],
 "metadata": {
  "kernelspec": {
   "display_name": "Python 3",
   "language": "python",
   "name": "python3"
  },
  "language_info": {
   "codemirror_mode": {
    "name": "ipython",
    "version": 3
   },
   "file_extension": ".py",
   "mimetype": "text/x-python",
   "name": "python",
   "nbconvert_exporter": "python",
   "pygments_lexer": "ipython3",
   "version": "3.7.3"
  }
 },
 "nbformat": 4,
 "nbformat_minor": 2
}
